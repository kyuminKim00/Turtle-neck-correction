{
 "cells": [
  {
   "cell_type": "code",
   "execution_count": 46,
   "id": "2530bf8a",
   "metadata": {},
   "outputs": [],
   "source": [
    "import cv2 as cv\n",
    "import mediapipe as mp\n",
    "import numpy as np\n",
    "from mediapipe.tasks import python\n",
    "from mediapipe.tasks.python import vision\n",
    "import matplotlib.pyplot as plt\n",
    "\n",
    "mp_drawing = mp.solutions.drawing_utils\n",
    "mp_pose = mp.solutions.pose\n",
    "\n",
    "# video feed\n",
    "cap = cv.VideoCapture(0)\n",
    "with mp_pose.Pose(min_detection_confidence=0.5, min_tracking_confidence=0.5) as pose:\n",
    "    # with ~ as : 파일 or 함수를 열고 with 내부의 코드가 실행이 끝나면 닫힘 \n",
    "    # 즉 with 내부에서는 pose를 이용해서 mediapipe 사용가능\n",
    "    \n",
    "    while cap.isOpened():\n",
    "        ret, frame = cap.read() #ret: 비디오가 정상적으로 불러와졌는지\n",
    "                                #frame : 실제 비디오 정보\n",
    "                                \n",
    "        # Detection\n",
    "        image = cv.cvtColor(frame, cv.COLOR_BGR2RGB) # cv는 비디오를 BGR로 받아오고 \n",
    "                                                     # mediapipe는 RGB로 비디오를 다루기 때문에 변환해야함\n",
    "        image.flags.writeable = False\n",
    "        \n",
    "        results = pose.process(image) # 실제로 관절 감지를 진행하는 부분\n",
    "        \n",
    "        image.flags.writeable = True\n",
    "        image = cv.cvtColor(image, cv.COLOR_RGB2BGR)\n",
    "        \n",
    "        \n",
    "        # 랜드마크 추출\n",
    "        try:\n",
    "            landmarks = results.pose_landmarks.landmark\n",
    "        except:\n",
    "            pass\n",
    "        \n",
    "        # 관절 그리기\n",
    "        mp_drawing.draw_landmarks(image, results.pose_landmarks, mp_pose.POSE_CONNECTIONS,\n",
    "                                  mp_drawing.DrawingSpec(color=(245,117,66), thickness=2, circle_radius=2),\n",
    "                                  mp_drawing.DrawingSpec(color=(245,66,66), thickness=2, circle_radius=2)\n",
    "                                    )\n",
    "        # results.pose_landmarks 에 감지한 관절의 좌표가 저장되어 있다.\n",
    "        \n",
    "        # 왼쪽, 오른쪽 어깨 관절의 중심점 찾기\n",
    "        x_LEFT_SHOULDER = landmarks[mp_pose.PoseLandmark.LEFT_SHOULDER.value].x*640\n",
    "        y_LEFT_SHOULDER = landmarks[mp_pose.PoseLandmark.LEFT_SHOULDER.value].y*480\n",
    "        z_LEFT_SHOULDER = landmarks[mp_pose.PoseLandmark.LEFT_SHOULDER.value].z*100\n",
    "        \n",
    "        x_RIGHT_SHOULDER = landmarks[mp_pose.PoseLandmark.RIGHT_SHOULDER.value].x*640\n",
    "        y_RIGHT_SHOULDER = landmarks[mp_pose.PoseLandmark.RIGHT_SHOULDER.value].y*480\n",
    "        z_RIGHT_SHOULDER = landmarks[mp_pose.PoseLandmark.RIGHT_SHOULDER.value].z*100\n",
    "\n",
    "        x_MIDDLE_SHOULDER = (x_LEFT_SHOULDER + x_RIGHT_SHOULDER) / 2\n",
    "        y_MIDDLE_SHOULDER = (y_LEFT_SHOULDER + y_RIGHT_SHOULDER) / 2\n",
    "        z_MIDDLE_SHOULDER = (z_LEFT_SHOULDER + z_RIGHT_SHOULDER) / 2\n",
    "        \n",
    "        # 어깨 사이 중심점 그리기\n",
    "        cv.circle(image, (int(x_MIDDLE_SHOULDER), int(y_MIDDLE_SHOULDER)), 6, (0, 0, 255), -1) # 중심은 빨간색 원으로 그림 \n",
    "                             \n",
    "        cv.imshow(\"Mediapipe feed\", image)\n",
    "        \n",
    "        \n",
    "\n",
    "        #print(x_MIDDLE_SHOULDER, y_MIDDLE_SHOULDER, z_MIDDLE_SHOULDER)\n",
    "        \n",
    "        \n",
    "        \n",
    "        #mp.solutions.drawing_utils.draw_landmarks(image, )\n",
    "        if cv.waitKey(1) == ord('q'): # q누르면 break\n",
    "            break\n",
    "        \n",
    "        \n",
    "        \n",
    "        \n",
    "    cap.release()\n",
    "    cv.destroyAllWindows()\n",
    "\n",
    "#git 테스트스트스틈으믕ㅁ어ㅏㅁ라ㅓㅁ랑저ㅣ어저ㅣㅇㅈ\n",
    "    \n",
    "    "
   ]
  },
  {
   "cell_type": "code",
   "execution_count": null,
   "id": "4ac5d0d6",
   "metadata": {},
   "outputs": [],
   "source": []
  },
  {
   "cell_type": "code",
   "execution_count": null,
   "id": "ea7e24da",
   "metadata": {},
   "outputs": [],
   "source": [
    "MIDDLE_SHOULDER = (landmarks[mp_pose.PoseLandmark.LEFT_SHOULDER.value] + landmarks[mp_pose.PoseLandmark.RIGHT_SHOULDER.value])/2"
   ]
  },
  {
   "cell_type": "code",
   "execution_count": 45,
   "metadata": {},
   "outputs": [
    {
     "ename": "ValueError",
     "evalue": "The truth value of an array with more than one element is ambiguous. Use a.any() or a.all()",
     "output_type": "error",
     "traceback": [
      "\u001b[1;31m---------------------------------------------------------------------------\u001b[0m",
      "\u001b[1;31mValueError\u001b[0m                                Traceback (most recent call last)",
      "\u001b[1;32m~\\AppData\\Local\\Temp\\ipykernel_27296\\1305297421.py\u001b[0m in \u001b[0;36m<module>\u001b[1;34m\u001b[0m\n\u001b[0;32m      1\u001b[0m \u001b[0mcv\u001b[0m\u001b[1;33m.\u001b[0m\u001b[0mcircle\u001b[0m\u001b[1;33m(\u001b[0m\u001b[0mimage\u001b[0m\u001b[1;33m,\u001b[0m \u001b[1;33m(\u001b[0m\u001b[0mint\u001b[0m\u001b[1;33m(\u001b[0m\u001b[0mx_MIDDLE_SHOULDER\u001b[0m\u001b[1;33m)\u001b[0m\u001b[1;33m,\u001b[0m \u001b[0mint\u001b[0m\u001b[1;33m(\u001b[0m\u001b[0my_MIDDLE_SHOULDER\u001b[0m\u001b[1;33m)\u001b[0m\u001b[1;33m)\u001b[0m\u001b[1;33m,\u001b[0m \u001b[1;36m10\u001b[0m\u001b[1;33m,\u001b[0m \u001b[1;33m(\u001b[0m\u001b[1;36m255\u001b[0m\u001b[1;33m,\u001b[0m \u001b[1;36m0\u001b[0m\u001b[1;33m,\u001b[0m \u001b[1;36m0\u001b[0m\u001b[1;33m)\u001b[0m\u001b[1;33m,\u001b[0m \u001b[1;33m-\u001b[0m\u001b[1;36m1\u001b[0m\u001b[1;33m)\u001b[0m\u001b[1;33m\u001b[0m\u001b[1;33m\u001b[0m\u001b[0m\n\u001b[1;32m----> 2\u001b[1;33m \u001b[0mplt\u001b[0m\u001b[1;33m.\u001b[0m\u001b[0mshow\u001b[0m\u001b[1;33m(\u001b[0m\u001b[0mimage\u001b[0m\u001b[1;33m)\u001b[0m\u001b[1;33m\u001b[0m\u001b[1;33m\u001b[0m\u001b[0m\n\u001b[0m",
      "\u001b[1;32mc:\\Users\\ZenBook\\anaconda3\\lib\\site-packages\\matplotlib\\pyplot.py\u001b[0m in \u001b[0;36mshow\u001b[1;34m(*args, **kwargs)\u001b[0m\n\u001b[0;32m    419\u001b[0m     \"\"\"\n\u001b[0;32m    420\u001b[0m     \u001b[0m_warn_if_gui_out_of_main_thread\u001b[0m\u001b[1;33m(\u001b[0m\u001b[1;33m)\u001b[0m\u001b[1;33m\u001b[0m\u001b[1;33m\u001b[0m\u001b[0m\n\u001b[1;32m--> 421\u001b[1;33m     \u001b[1;32mreturn\u001b[0m \u001b[0m_get_backend_mod\u001b[0m\u001b[1;33m(\u001b[0m\u001b[1;33m)\u001b[0m\u001b[1;33m.\u001b[0m\u001b[0mshow\u001b[0m\u001b[1;33m(\u001b[0m\u001b[1;33m*\u001b[0m\u001b[0margs\u001b[0m\u001b[1;33m,\u001b[0m \u001b[1;33m**\u001b[0m\u001b[0mkwargs\u001b[0m\u001b[1;33m)\u001b[0m\u001b[1;33m\u001b[0m\u001b[1;33m\u001b[0m\u001b[0m\n\u001b[0m\u001b[0;32m    422\u001b[0m \u001b[1;33m\u001b[0m\u001b[0m\n\u001b[0;32m    423\u001b[0m \u001b[1;33m\u001b[0m\u001b[0m\n",
      "\u001b[1;32mc:\\Users\\ZenBook\\anaconda3\\lib\\site-packages\\matplotlib_inline\\backend_inline.py\u001b[0m in \u001b[0;36mshow\u001b[1;34m(close, block)\u001b[0m\n\u001b[0;32m     96\u001b[0m         \u001b[1;31m# only call close('all') if any to close\u001b[0m\u001b[1;33m\u001b[0m\u001b[1;33m\u001b[0m\u001b[0m\n\u001b[0;32m     97\u001b[0m         \u001b[1;31m# close triggers gc.collect, which can be slow\u001b[0m\u001b[1;33m\u001b[0m\u001b[1;33m\u001b[0m\u001b[0m\n\u001b[1;32m---> 98\u001b[1;33m         \u001b[1;32mif\u001b[0m \u001b[0mclose\u001b[0m \u001b[1;32mand\u001b[0m \u001b[0mGcf\u001b[0m\u001b[1;33m.\u001b[0m\u001b[0mget_all_fig_managers\u001b[0m\u001b[1;33m(\u001b[0m\u001b[1;33m)\u001b[0m\u001b[1;33m:\u001b[0m\u001b[1;33m\u001b[0m\u001b[1;33m\u001b[0m\u001b[0m\n\u001b[0m\u001b[0;32m     99\u001b[0m             \u001b[0mmatplotlib\u001b[0m\u001b[1;33m.\u001b[0m\u001b[0mpyplot\u001b[0m\u001b[1;33m.\u001b[0m\u001b[0mclose\u001b[0m\u001b[1;33m(\u001b[0m\u001b[1;34m'all'\u001b[0m\u001b[1;33m)\u001b[0m\u001b[1;33m\u001b[0m\u001b[1;33m\u001b[0m\u001b[0m\n\u001b[0;32m    100\u001b[0m \u001b[1;33m\u001b[0m\u001b[0m\n",
      "\u001b[1;31mValueError\u001b[0m: The truth value of an array with more than one element is ambiguous. Use a.any() or a.all()"
     ]
    }
   ],
   "source": [
    "cv.circle(image, (int(x_MIDDLE_SHOULDER), int(y_MIDDLE_SHOULDER)), 10, (255, 0, 0), -1)\n",
    "plt.show(image)"
   ]
  },
  {
   "cell_type": "code",
   "execution_count": 30,
   "id": "03e6db5b",
   "metadata": {},
   "outputs": [
    {
     "data": {
      "text/plain": [
       "(480, 640, 3)"
      ]
     },
     "execution_count": 30,
     "metadata": {},
     "output_type": "execute_result"
    }
   ],
   "source": [
    "image.shape"
   ]
  },
  {
   "cell_type": "code",
   "execution_count": 32,
   "id": "9eb03696",
   "metadata": {},
   "outputs": [
    {
     "data": {
      "text/plain": [
       "0.7030494213104248"
      ]
     },
     "execution_count": 32,
     "metadata": {},
     "output_type": "execute_result"
    }
   ],
   "source": [
    "landmarks[mp_pose.PoseLandmark.LEFT_SHOULDER.value].x"
   ]
  },
  {
   "cell_type": "code",
   "execution_count": 31,
   "id": "e66942a1",
   "metadata": {},
   "outputs": [
    {
     "data": {
      "text/plain": [
       "543"
      ]
     },
     "execution_count": 31,
     "metadata": {},
     "output_type": "execute_result"
    }
   ],
   "source": [
    "int(landmarks[mp_pose.PoseLandmark.LEFT_SHOULDER.value].x*480)\n",
    "int(landmarks[mp_pose.PoseLandmark.LEFT_SHOULDER.value].y*640)"
   ]
  },
  {
   "cell_type": "code",
   "execution_count": 12,
   "id": "4b8f8636",
   "metadata": {},
   "outputs": [],
   "source": [
    "import cv2 as cv\n",
    "cap = cv.VideoCapture(0)\n",
    "\n",
    "while cap.isOpened():\n",
    "    ret, test = cap.read()\n",
    "    \n",
    "    cv.circle(test, (int(x_MIDDLE_SHOULDER*100), int(y_MIDDLE_SHOULDER*100)), 100, color=(255, 0, 0), thickness=2)\n",
    "    cv.imshow(\"test feed\", test)\n",
    "    \n",
    "    \n",
    "\n",
    "\n",
    "    if cv.waitKey(1) == ord('q'): # q누르면 break\n",
    "            break\n",
    "        \n",
    "        \n",
    "        \n",
    "        \n",
    "cap.release()\n",
    "cv.destroyAllWindows()\n"
   ]
  }
 ],
 "metadata": {
  "kernelspec": {
   "display_name": "tf2_book",
   "language": "python",
   "name": "tf2_book"
  },
  "language_info": {
   "codemirror_mode": {
    "name": "ipython",
    "version": 3
   },
   "file_extension": ".py",
   "mimetype": "text/x-python",
   "name": "python",
   "nbconvert_exporter": "python",
   "pygments_lexer": "ipython3",
   "version": "3.9.13"
  }
 },
 "nbformat": 4,
 "nbformat_minor": 5
}
